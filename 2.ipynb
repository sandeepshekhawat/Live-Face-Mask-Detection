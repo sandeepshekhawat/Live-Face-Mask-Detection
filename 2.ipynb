{
 "cells": [
  {
   "cell_type": "code",
   "execution_count": 1,
   "id": "4da4bb63",
   "metadata": {},
   "outputs": [],
   "source": [
    "import numpy as np\n",
    "import cv2"
   ]
  },
  {
   "cell_type": "code",
   "execution_count": 2,
   "id": "3a376344",
   "metadata": {},
   "outputs": [],
   "source": [
    "with_mask=np.load('with_mask1.npy')\n",
    "without_mask=np.load('without_mask1.npy')\n",
    "\n"
   ]
  },
  {
   "cell_type": "code",
   "execution_count": 3,
   "id": "86b2814d",
   "metadata": {},
   "outputs": [
    {
     "data": {
      "text/plain": [
       "(200, 50, 50, 3)"
      ]
     },
     "execution_count": 3,
     "metadata": {},
     "output_type": "execute_result"
    }
   ],
   "source": [
    "with_mask.shape"
   ]
  },
  {
   "cell_type": "code",
   "execution_count": 4,
   "id": "7254976a",
   "metadata": {},
   "outputs": [
    {
     "data": {
      "text/plain": [
       "(200, 50, 50, 3)"
      ]
     },
     "execution_count": 4,
     "metadata": {},
     "output_type": "execute_result"
    }
   ],
   "source": [
    "without_mask.shape"
   ]
  },
  {
   "cell_type": "code",
   "execution_count": 5,
   "id": "ea6f29da",
   "metadata": {},
   "outputs": [],
   "source": [
    "with_mask=with_mask.reshape(200,50*50*3)\n",
    "without_mask=without_mask.reshape(200,50*50*3)"
   ]
  },
  {
   "cell_type": "code",
   "execution_count": 6,
   "id": "742e0735",
   "metadata": {},
   "outputs": [
    {
     "data": {
      "text/plain": [
       "(200, 7500)"
      ]
     },
     "execution_count": 6,
     "metadata": {},
     "output_type": "execute_result"
    }
   ],
   "source": [
    "with_mask.shape"
   ]
  },
  {
   "cell_type": "code",
   "execution_count": 7,
   "id": "d4d21595",
   "metadata": {},
   "outputs": [
    {
     "data": {
      "text/plain": [
       "(200, 7500)"
      ]
     },
     "execution_count": 7,
     "metadata": {},
     "output_type": "execute_result"
    }
   ],
   "source": [
    "without_mask.shape"
   ]
  },
  {
   "cell_type": "code",
   "execution_count": 8,
   "id": "41f45c07",
   "metadata": {},
   "outputs": [],
   "source": [
    "X=np.r_[with_mask,without_mask]"
   ]
  },
  {
   "cell_type": "code",
   "execution_count": 9,
   "id": "00640f6d",
   "metadata": {},
   "outputs": [
    {
     "data": {
      "text/plain": [
       "(400, 7500)"
      ]
     },
     "execution_count": 9,
     "metadata": {},
     "output_type": "execute_result"
    }
   ],
   "source": [
    "X.shape"
   ]
  },
  {
   "cell_type": "code",
   "execution_count": 10,
   "id": "13f0e7fd",
   "metadata": {},
   "outputs": [],
   "source": [
    "labels=np.zeros(X.shape[0])"
   ]
  },
  {
   "cell_type": "code",
   "execution_count": 11,
   "id": "745f91f4",
   "metadata": {},
   "outputs": [],
   "source": [
    "labels[200:]=1.0"
   ]
  },
  {
   "cell_type": "code",
   "execution_count": 12,
   "id": "7e60895a",
   "metadata": {},
   "outputs": [],
   "source": [
    "names={0:'Mask',1:'No mask'}\n"
   ]
  },
  {
   "cell_type": "code",
   "execution_count": 13,
   "id": "18c2eea6",
   "metadata": {},
   "outputs": [],
   "source": [
    "from sklearn.svm import SVC\n",
    "from sklearn.metrics import accuracy_score\n"
   ]
  },
  {
   "cell_type": "code",
   "execution_count": 14,
   "id": "53d94dc7",
   "metadata": {},
   "outputs": [],
   "source": [
    "# !pip install sklearn"
   ]
  },
  {
   "cell_type": "code",
   "execution_count": 15,
   "id": "e6366f84",
   "metadata": {},
   "outputs": [],
   "source": [
    "from sklearn.model_selection import train_test_split"
   ]
  },
  {
   "cell_type": "code",
   "execution_count": 16,
   "id": "395dcae0",
   "metadata": {},
   "outputs": [],
   "source": [
    "x_train,x_test,y_train,y_test=train_test_split(X,labels,test_size=0.25)"
   ]
  },
  {
   "cell_type": "code",
   "execution_count": 17,
   "id": "d552c6d7",
   "metadata": {},
   "outputs": [
    {
     "data": {
      "text/plain": [
       "(300, 7500)"
      ]
     },
     "execution_count": 17,
     "metadata": {},
     "output_type": "execute_result"
    }
   ],
   "source": [
    "x_train.shape\n"
   ]
  },
  {
   "cell_type": "code",
   "execution_count": 18,
   "id": "7276dba6",
   "metadata": {},
   "outputs": [],
   "source": [
    "from sklearn.decomposition import PCA"
   ]
  },
  {
   "cell_type": "code",
   "execution_count": 19,
   "id": "c7829012",
   "metadata": {},
   "outputs": [],
   "source": [
    "pca=PCA(n_components=3)\n",
    "x_train=pca.fit_transform(x_train)"
   ]
  },
  {
   "cell_type": "code",
   "execution_count": 20,
   "id": "6ae8acbe",
   "metadata": {},
   "outputs": [
    {
     "data": {
      "text/plain": [
       "array([-1719.81816156, -1428.12287113,  -662.69358281])"
      ]
     },
     "execution_count": 20,
     "metadata": {},
     "output_type": "execute_result"
    }
   ],
   "source": [
    "x_train[0]"
   ]
  },
  {
   "cell_type": "code",
   "execution_count": 21,
   "id": "b9bcfab5",
   "metadata": {},
   "outputs": [
    {
     "data": {
      "text/plain": [
       "(300, 3)"
      ]
     },
     "execution_count": 21,
     "metadata": {},
     "output_type": "execute_result"
    }
   ],
   "source": [
    "x_train.shape"
   ]
  },
  {
   "cell_type": "code",
   "execution_count": 41,
   "id": "e58843d5",
   "metadata": {},
   "outputs": [],
   "source": [
    "x_train,x_test,y_train,y_test=train_test_split(X,labels,test_size=0.25)"
   ]
  },
  {
   "cell_type": "code",
   "execution_count": 42,
   "id": "3b733e03",
   "metadata": {},
   "outputs": [
    {
     "data": {
      "text/plain": [
       "SVC()"
      ]
     },
     "execution_count": 42,
     "metadata": {},
     "output_type": "execute_result"
    }
   ],
   "source": [
    "svm=SVC()\n",
    "svm.fit(x_train, y_train)"
   ]
  },
  {
   "cell_type": "code",
   "execution_count": 43,
   "id": "9418ed95",
   "metadata": {},
   "outputs": [],
   "source": [
    "# x_test=pca.transform(x_test)\n",
    "y_pred=svm.predict(x_test)"
   ]
  },
  {
   "cell_type": "code",
   "execution_count": 44,
   "id": "73435064",
   "metadata": {},
   "outputs": [
    {
     "data": {
      "text/plain": [
       "0.94"
      ]
     },
     "execution_count": 44,
     "metadata": {},
     "output_type": "execute_result"
    }
   ],
   "source": [
    "accuracy_score(y_test,y_pred)"
   ]
  },
  {
   "cell_type": "code",
   "execution_count": 45,
   "id": "5ab3cb22",
   "metadata": {
    "scrolled": true
   },
   "outputs": [
    {
     "name": "stdout",
     "output_type": "stream",
     "text": [
      "No mask\n",
      "No mask\n",
      "No mask\n",
      "Mask\n",
      "No mask\n",
      "No mask\n",
      "No mask\n",
      "No mask\n",
      "No mask\n",
      "No mask\n",
      "No mask\n",
      "No mask\n",
      "No mask\n",
      "No mask\n",
      "No mask\n",
      "No mask\n",
      "No mask\n",
      "No mask\n",
      "No mask\n",
      "No mask\n",
      "No mask\n",
      "No mask\n",
      "No mask\n",
      "No mask\n",
      "No mask\n",
      "No mask\n",
      "No mask\n",
      "No mask\n",
      "No mask\n",
      "No mask\n",
      "No mask\n",
      "No mask\n",
      "No mask\n",
      "No mask\n",
      "No mask\n",
      "No mask\n",
      "No mask\n",
      "No mask\n",
      "No mask\n",
      "No mask\n",
      "No mask\n",
      "No mask\n",
      "No mask\n",
      "No mask\n",
      "Mask\n",
      "No mask\n",
      "No mask\n",
      "No mask\n",
      "No mask\n",
      "Mask\n",
      "No mask\n",
      "No mask\n",
      "No mask\n",
      "No mask\n",
      "No mask\n",
      "No mask\n",
      "No mask\n",
      "No mask\n",
      "No mask\n",
      "No mask\n",
      "No mask\n",
      "No mask\n",
      "No mask\n",
      "No mask\n",
      "No mask\n",
      "No mask\n",
      "No mask\n",
      "No mask\n",
      "No mask\n",
      "No mask\n",
      "No mask\n",
      "No mask\n",
      "No mask\n",
      "No mask\n",
      "No mask\n",
      "No mask\n",
      "No mask\n",
      "No mask\n",
      "No mask\n",
      "No mask\n",
      "No mask\n",
      "No mask\n",
      "No mask\n",
      "No mask\n",
      "No mask\n",
      "No mask\n",
      "No mask\n",
      "No mask\n",
      "No mask\n",
      "No mask\n",
      "No mask\n",
      "No mask\n",
      "No mask\n",
      "No mask\n",
      "No mask\n",
      "No mask\n",
      "No mask\n",
      "No mask\n",
      "No mask\n",
      "No mask\n",
      "Mask\n",
      "No mask\n",
      "No mask\n",
      "No mask\n",
      "No mask\n",
      "Mask\n",
      "No mask\n",
      "Mask\n",
      "No mask\n",
      "No mask\n",
      "No mask\n",
      "No mask\n",
      "No mask\n",
      "Mask\n",
      "No mask\n",
      "No mask\n",
      "No mask\n",
      "No mask\n",
      "No mask\n",
      "No mask\n",
      "No mask\n",
      "No mask\n",
      "No mask\n",
      "No mask\n",
      "No mask\n",
      "No mask\n",
      "Mask\n",
      "No mask\n",
      "No mask\n",
      "No mask\n",
      "No mask\n",
      "No mask\n",
      "No mask\n",
      "No mask\n",
      "No mask\n",
      "No mask\n",
      "Mask\n",
      "Mask\n",
      "Mask\n",
      "Mask\n",
      "Mask\n",
      "Mask\n",
      "Mask\n",
      "No mask\n",
      "Mask\n",
      "Mask\n",
      "Mask\n",
      "Mask\n",
      "No mask\n",
      "Mask\n",
      "Mask\n",
      "Mask\n",
      "Mask\n",
      "No mask\n",
      "No mask\n",
      "Mask\n",
      "Mask\n",
      "No mask\n",
      "Mask\n",
      "No mask\n",
      "Mask\n",
      "No mask\n",
      "No mask\n",
      "Mask\n",
      "Mask\n",
      "No mask\n",
      "No mask\n",
      "Mask\n",
      "Mask\n",
      "No mask\n",
      "No mask\n",
      "Mask\n",
      "No mask\n",
      "No mask\n",
      "Mask\n",
      "No mask\n",
      "No mask\n",
      "Mask\n",
      "Mask\n",
      "Mask\n",
      "No mask\n",
      "Mask\n",
      "No mask\n",
      "No mask\n",
      "Mask\n",
      "Mask\n",
      "No mask\n",
      "No mask\n",
      "Mask\n",
      "No mask\n",
      "Mask\n",
      "Mask\n",
      "Mask\n",
      "No mask\n",
      "Mask\n",
      "Mask\n",
      "No mask\n",
      "No mask\n",
      "Mask\n",
      "No mask\n",
      "Mask\n",
      "No mask\n",
      "Mask\n",
      "No mask\n",
      "No mask\n",
      "Mask\n",
      "No mask\n",
      "No mask\n",
      "Mask\n",
      "Mask\n",
      "Mask\n",
      "Mask\n",
      "No mask\n",
      "Mask\n",
      "Mask\n",
      "No mask\n",
      "No mask\n",
      "Mask\n",
      "Mask\n",
      "Mask\n",
      "No mask\n",
      "Mask\n",
      "Mask\n",
      "Mask\n",
      "Mask\n",
      "Mask\n",
      "No mask\n",
      "Mask\n",
      "No mask\n",
      "Mask\n",
      "Mask\n",
      "Mask\n",
      "No mask\n",
      "Mask\n",
      "Mask\n",
      "No mask\n",
      "Mask\n",
      "Mask\n",
      "No mask\n",
      "Mask\n",
      "Mask\n",
      "Mask\n",
      "Mask\n",
      "No mask\n",
      "Mask\n",
      "No mask\n",
      "Mask\n",
      "Mask\n",
      "No mask\n",
      "Mask\n",
      "Mask\n",
      "Mask\n",
      "Mask\n",
      "No mask\n",
      "Mask\n",
      "No mask\n",
      "Mask\n",
      "No mask\n",
      "Mask\n",
      "Mask\n",
      "No mask\n",
      "Mask\n",
      "Mask\n",
      "Mask\n",
      "No mask\n",
      "Mask\n",
      "Mask\n",
      "Mask\n",
      "Mask\n",
      "Mask\n",
      "Mask\n",
      "Mask\n",
      "No mask\n",
      "Mask\n",
      "No mask\n",
      "No mask\n",
      "Mask\n",
      "Mask\n",
      "No mask\n",
      "No mask\n",
      "Mask\n",
      "Mask\n",
      "Mask\n",
      "Mask\n",
      "Mask\n",
      "Mask\n",
      "Mask\n",
      "Mask\n",
      "Mask\n",
      "No mask\n",
      "No mask\n",
      "Mask\n",
      "No mask\n",
      "Mask\n",
      "No mask\n",
      "No mask\n",
      "Mask\n",
      "No mask\n",
      "No mask\n",
      "Mask\n",
      "No mask\n",
      "No mask\n",
      "No mask\n",
      "No mask\n",
      "No mask\n",
      "No mask\n",
      "No mask\n",
      "No mask\n",
      "Mask\n",
      "Mask\n",
      "Mask\n",
      "No mask\n",
      "No mask\n",
      "No mask\n",
      "No mask\n",
      "No mask\n",
      "Mask\n",
      "No mask\n",
      "No mask\n",
      "No mask\n",
      "No mask\n",
      "Mask\n",
      "No mask\n",
      "No mask\n",
      "No mask\n",
      "Mask\n",
      "No mask\n",
      "Mask\n",
      "No mask\n",
      "No mask\n",
      "Mask\n",
      "No mask\n",
      "No mask\n",
      "No mask\n",
      "No mask\n",
      "No mask\n",
      "Mask\n",
      "No mask\n",
      "No mask\n",
      "No mask\n",
      "No mask\n",
      "No mask\n",
      "No mask\n",
      "No mask\n",
      "Mask\n",
      "Mask\n",
      "Mask\n"
     ]
    }
   ],
   "source": [
    "haar_data=cv2.CascadeClassifier('data.xml')\n",
    "capture=cv2.VideoCapture(0)\n",
    "data = []\n",
    "font=cv2.FONT_HERSHEY_COMPLEX\n",
    "while True:\n",
    "    flag,img = capture.read()\n",
    "    if flag:\n",
    "        faces = haar_data.detectMultiScale(img)\n",
    "        for x,y,w,h in faces:\n",
    "            cv2.rectangle(img,(x,y),(x+w,y+h),(255,0,255),4)\n",
    "            face= img[y:y+h,x:x+w, :]\n",
    "            face= cv2.resize(face,(50,50))\n",
    "            face= face.reshape(1,-1)\n",
    "            #face=pca.transform(face)\n",
    "            pred=svm.predict(face)\n",
    "            n=names[int(pred)]\n",
    "            print(n)\n",
    "            cv2.putText(img, n, (x,y),font,1,(244,137,234),2)\n",
    "        cv2.imshow('result',img)\n",
    "        if cv2.waitKey(2) == 27:\n",
    "            break\n",
    "            \n",
    "capture.release()\n",
    "cv2.destroyAllWindows()"
   ]
  },
  {
   "cell_type": "code",
   "execution_count": null,
   "id": "188563a4",
   "metadata": {},
   "outputs": [],
   "source": []
  }
 ],
 "metadata": {
  "kernelspec": {
   "display_name": "Python 3 (ipykernel)",
   "language": "python",
   "name": "python3"
  },
  "language_info": {
   "codemirror_mode": {
    "name": "ipython",
    "version": 3
   },
   "file_extension": ".py",
   "mimetype": "text/x-python",
   "name": "python",
   "nbconvert_exporter": "python",
   "pygments_lexer": "ipython3",
   "version": "3.9.7"
  }
 },
 "nbformat": 4,
 "nbformat_minor": 5
}
